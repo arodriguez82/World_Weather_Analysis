{
 "cells": [
  {
   "cell_type": "code",
   "execution_count": 1,
   "metadata": {},
   "outputs": [],
   "source": [
    "# Import the dependencies\n",
    "import pandas as pd\n",
    "import matplotlib.pyplot as plt\n",
    "import numpy as np"
   ]
  },
  {
   "cell_type": "code",
   "execution_count": 2,
   "metadata": {},
   "outputs": [
    {
     "data": {
      "text/plain": [
       "<zip at 0x1e16088a388>"
      ]
     },
     "execution_count": 2,
     "metadata": {},
     "output_type": "execute_result"
    }
   ],
   "source": [
    "# Create a set of random latitude and longitude combinations\n",
    "lats = np.random.uniform(low=-90.000, high=90.000, size=100)\n",
    "lngs = np.random.uniform(low=-180.000, high=180.000,size=100)\n",
    "lat_lngs = zip(lats, lngs)\n",
    "lat_lngs"
   ]
  },
  {
   "cell_type": "code",
   "execution_count": 3,
   "metadata": {},
   "outputs": [],
   "source": [
    "# Add the latitudes and longitudes to a list\n",
    "coordinates = list(lat_lngs)"
   ]
  },
  {
   "cell_type": "code",
   "execution_count": 4,
   "metadata": {},
   "outputs": [],
   "source": [
    "# Import citipy to obtain cities from lat and long\n",
    "from citipy import citipy"
   ]
  },
  {
   "cell_type": "code",
   "execution_count": 5,
   "metadata": {},
   "outputs": [
    {
     "data": {
      "text/plain": [
       "79"
      ]
     },
     "execution_count": 5,
     "metadata": {},
     "output_type": "execute_result"
    }
   ],
   "source": [
    "# Create a list for holding the cities\n",
    "cities = []\n",
    "# Identify the nearest city for each latitude and longitude combination\n",
    "for coordinate in coordinates:\n",
    "    city = citipy.nearest_city(coordinate[0], coordinate[1]).city_name\n",
    "    \n",
    "    # If the city is unique, then add it to the cities list\n",
    "    if city not in cities:\n",
    "        cities.append(city)\n",
    "# Print the city count to confirm sufficient count\n",
    "len(cities)"
   ]
  },
  {
   "cell_type": "code",
   "execution_count": 6,
   "metadata": {},
   "outputs": [],
   "source": [
    "# Import the requests library\n",
    "import requests\n",
    "\n",
    "# Import the API key\n",
    "from config import weather_api_key"
   ]
  },
  {
   "cell_type": "code",
   "execution_count": 7,
   "metadata": {},
   "outputs": [
    {
     "name": "stdout",
     "output_type": "stream",
     "text": [
      "https://api.openweathermap.org/data/2.5/weather?units=Imperial&APPID=2075a61b97e9dfc66fa3ba5f897a45dc\n"
     ]
    }
   ],
   "source": [
    "# Starting URL for Weather Map API Call\n",
    "url = \"https://api.openweathermap.org/data/2.5/weather?units=Imperial&APPID=\" + weather_api_key\n",
    "print(url)"
   ]
  },
  {
   "cell_type": "code",
   "execution_count": 8,
   "metadata": {},
   "outputs": [],
   "source": [
    "# Import the datetime module from the datetime library\n",
    "from datetime import datetime"
   ]
  },
  {
   "cell_type": "code",
   "execution_count": 9,
   "metadata": {},
   "outputs": [
    {
     "name": "stdout",
     "output_type": "stream",
     "text": [
      "Beginning Data Retrieval     \n",
      "-----------------------------\n",
      "Processing Records 1 of Set 1 | payson\n",
      "Processing Records 2 of Set 1 | vaini\n",
      "Processing Records 3 of Set 1 | san cristobal\n",
      "Processing Records 4 of Set 1 | caldas\n",
      "Processing Records 5 of Set 1 | illoqqortoormiut\n",
      "City not found. Skipping...\n",
      "Processing Records 6 of Set 1 | parabel\n",
      "Processing Records 7 of Set 1 | bethel\n",
      "Processing Records 8 of Set 1 | ushuaia\n",
      "Processing Records 9 of Set 1 | caravelas\n",
      "Processing Records 10 of Set 1 | chapais\n",
      "Processing Records 11 of Set 1 | namatanai\n",
      "Processing Records 12 of Set 1 | hilo\n",
      "Processing Records 13 of Set 1 | hermanus\n",
      "Processing Records 14 of Set 1 | mataura\n",
      "Processing Records 15 of Set 1 | carnarvon\n",
      "Processing Records 16 of Set 1 | los llanos de aridane\n",
      "Processing Records 17 of Set 1 | malwan\n",
      "City not found. Skipping...\n",
      "Processing Records 18 of Set 1 | pangnirtung\n",
      "Processing Records 19 of Set 1 | nizhneyansk\n",
      "City not found. Skipping...\n",
      "Processing Records 20 of Set 1 | hobart\n",
      "Processing Records 21 of Set 1 | rikitea\n",
      "Processing Records 22 of Set 1 | jijiga\n",
      "Processing Records 23 of Set 1 | victor harbor\n",
      "Processing Records 24 of Set 1 | skalistyy\n",
      "City not found. Skipping...\n",
      "Processing Records 25 of Set 1 | abu dhabi\n",
      "Processing Records 26 of Set 1 | georgetown\n",
      "Processing Records 27 of Set 1 | port alfred\n",
      "Processing Records 28 of Set 1 | summerland\n",
      "Processing Records 29 of Set 1 | dezful\n",
      "Processing Records 30 of Set 1 | mys shmidta\n",
      "City not found. Skipping...\n",
      "Processing Records 31 of Set 1 | dikson\n",
      "Processing Records 32 of Set 1 | sturgeon falls\n",
      "Processing Records 33 of Set 1 | mount gambier\n",
      "Processing Records 34 of Set 1 | port elizabeth\n",
      "Processing Records 35 of Set 1 | atuona\n",
      "Processing Records 36 of Set 1 | mnogovershinnyy\n",
      "Processing Records 37 of Set 1 | maraa\n",
      "Processing Records 38 of Set 1 | punta arenas\n",
      "Processing Records 39 of Set 1 | coihaique\n",
      "Processing Records 40 of Set 1 | jardim\n",
      "Processing Records 41 of Set 1 | puro\n",
      "Processing Records 42 of Set 1 | klyuchi\n",
      "Processing Records 43 of Set 1 | svetlyy\n",
      "Processing Records 44 of Set 1 | terra santa\n",
      "Processing Records 45 of Set 1 | seda\n",
      "Processing Records 46 of Set 1 | mahebourg\n",
      "Processing Records 47 of Set 1 | tuatapere\n",
      "Processing Records 48 of Set 1 | hauterive\n",
      "Processing Records 49 of Set 1 | cape town\n",
      "Processing Records 50 of Set 1 | kapaa\n",
      "Processing Records 1 of Set 2 | haapiti\n",
      "Processing Records 2 of Set 2 | hobyo\n",
      "Processing Records 3 of Set 2 | bredasdorp\n",
      "Processing Records 4 of Set 2 | aykhal\n",
      "Processing Records 5 of Set 2 | souillac\n",
      "Processing Records 6 of Set 2 | yumen\n",
      "Processing Records 7 of Set 2 | belaya gora\n",
      "Processing Records 8 of Set 2 | new norfolk\n",
      "Processing Records 9 of Set 2 | taolanaro\n",
      "City not found. Skipping...\n",
      "Processing Records 10 of Set 2 | muros\n",
      "Processing Records 11 of Set 2 | alofi\n",
      "Processing Records 12 of Set 2 | amderma\n",
      "City not found. Skipping...\n",
      "Processing Records 13 of Set 2 | khatanga\n",
      "Processing Records 14 of Set 2 | arlit\n",
      "Processing Records 15 of Set 2 | kaitangata\n",
      "Processing Records 16 of Set 2 | albany\n",
      "Processing Records 17 of Set 2 | magog\n",
      "Processing Records 18 of Set 2 | tidore\n",
      "City not found. Skipping...\n",
      "Processing Records 19 of Set 2 | longlac\n",
      "City not found. Skipping...\n",
      "Processing Records 20 of Set 2 | paucartambo\n",
      "City not found. Skipping...\n",
      "Processing Records 21 of Set 2 | jamestown\n",
      "Processing Records 22 of Set 2 | castro\n",
      "Processing Records 23 of Set 2 | kavieng\n",
      "Processing Records 24 of Set 2 | yellowknife\n",
      "Processing Records 25 of Set 2 | eregli\n",
      "Processing Records 26 of Set 2 | longyearbyen\n",
      "Processing Records 27 of Set 2 | bandarbeyla\n",
      "Processing Records 28 of Set 2 | ofaqim\n",
      "Processing Records 29 of Set 2 | talnakh\n",
      "----------------------------\n",
      "Data Retrieval Complete     \n",
      "----------------------------\n"
     ]
    }
   ],
   "source": [
    "# Create an empty list to hold the weather data\n",
    "city_data = []\n",
    "# Print the beginning of the logging\n",
    "print(\"Beginning Data Retrieval     \")\n",
    "print(\"-----------------------------\")\n",
    "\n",
    "# Create counters\n",
    "record_count = 1\n",
    "set_count = 1\n",
    "\n",
    "# Loop through all the cities in the list\n",
    "for i, city in enumerate(cities):\n",
    "    \n",
    "    # Group cities in sets of 50 for logging purposes\n",
    "    if (i % 50 == 0 and i >=50):\n",
    "        set_count += 1\n",
    "        record_count = 1\n",
    "    # Create endpoint URL with each city\n",
    "    city_url = url + \"&q=\" + city\n",
    "    \n",
    "    # Log the URL, record, and set numbers and the city\n",
    "    print(f\"Processing Records {record_count} of Set {set_count} | {city}\")\n",
    "    # Add 1 to the record count\n",
    "    record_count += 1\n",
    "\n",
    " # Run an API request for each of the cities\n",
    "    try:\n",
    "        # Parse the JSON and retrieve data\n",
    "        city_weather = requests.get(city_url).json()\n",
    "        # Parse out the needed data\n",
    "        city_lat = city_weather[\"coord\"][\"lat\"]\n",
    "        city_lng = city_weather[\"coord\"][\"lon\"]\n",
    "        city_max_temp = city_weather[\"main\"][\"temp_max\"]\n",
    "        city_humidity = city_weather[\"main\"][\"humidity\"]\n",
    "        city_clouds = city_weather[\"clouds\"][\"all\"]\n",
    "        city_wind = city_weather[\"wind\"][\"speed\"]\n",
    "        city_country = city_weather[\"sys\"][\"country\"]\n",
    "        try:\n",
    "            city_rain = city_weather[\"rain\"][\"3h\"]\n",
    "        except:\n",
    "            city_rain = 0\n",
    "        try: \n",
    "            city_snow = city_weather[\"snow\"][\"3h\"]\n",
    "        except:\n",
    "            city_snow = 0\n",
    "        # Convert the date to ISO standard\n",
    "        city_date = datetime.utcfromtimestamp(city_weather[\"dt\"]).strftime('%Y-%m-%d %H:%M:%S')\n",
    "        # Append the city information into city_data list\n",
    "        city_data.append({\"City\": city.title(),\n",
    "                          \"Lat\": city_lat,\n",
    "                          \"Lng\": city_lng,\n",
    "                          \"Max Temp\": city_max_temp,\n",
    "                          \"Humidity\": city_humidity,\n",
    "                          \"Cloudiness\": city_clouds,\n",
    "                          \"Wind Speed\": city_wind,\n",
    "                          \"Rainfall (inches)\": city_rain,\n",
    "                          \"Snowfall (inches)\": city_snow,\n",
    "                          \"Country\": city_country,\n",
    "                          \"Date\": city_date})\n",
    "        \n",
    "# If an error is experienced, skip the city\n",
    "    except:\n",
    "        print(\"City not found. Skipping...\")\n",
    "        pass\n",
    "    \n",
    "# Indicate that Data Loading is complete\n",
    "print(\"----------------------------\")\n",
    "print(\"Data Retrieval Complete     \")\n",
    "print(\"----------------------------\")"
   ]
  },
  {
   "cell_type": "code",
   "execution_count": 10,
   "metadata": {},
   "outputs": [
    {
     "data": {
      "text/html": [
       "<div>\n",
       "<style scoped>\n",
       "    .dataframe tbody tr th:only-of-type {\n",
       "        vertical-align: middle;\n",
       "    }\n",
       "\n",
       "    .dataframe tbody tr th {\n",
       "        vertical-align: top;\n",
       "    }\n",
       "\n",
       "    .dataframe thead th {\n",
       "        text-align: right;\n",
       "    }\n",
       "</style>\n",
       "<table border=\"1\" class=\"dataframe\">\n",
       "  <thead>\n",
       "    <tr style=\"text-align: right;\">\n",
       "      <th></th>\n",
       "      <th>City</th>\n",
       "      <th>Lat</th>\n",
       "      <th>Lng</th>\n",
       "      <th>Max Temp</th>\n",
       "      <th>Humidity</th>\n",
       "      <th>Cloudiness</th>\n",
       "      <th>Wind Speed</th>\n",
       "      <th>Rainfall (inches)</th>\n",
       "      <th>Snowfall (inches)</th>\n",
       "      <th>Country</th>\n",
       "      <th>Date</th>\n",
       "    </tr>\n",
       "  </thead>\n",
       "  <tbody>\n",
       "    <tr>\n",
       "      <th>0</th>\n",
       "      <td>Payson</td>\n",
       "      <td>40.04</td>\n",
       "      <td>-111.73</td>\n",
       "      <td>39.00</td>\n",
       "      <td>47</td>\n",
       "      <td>90</td>\n",
       "      <td>9.17</td>\n",
       "      <td>0.00</td>\n",
       "      <td>0.00</td>\n",
       "      <td>US</td>\n",
       "      <td>2020-01-14 04:34:55</td>\n",
       "    </tr>\n",
       "    <tr>\n",
       "      <th>1</th>\n",
       "      <td>Vaini</td>\n",
       "      <td>-21.20</td>\n",
       "      <td>-175.20</td>\n",
       "      <td>86.00</td>\n",
       "      <td>74</td>\n",
       "      <td>20</td>\n",
       "      <td>6.93</td>\n",
       "      <td>0.00</td>\n",
       "      <td>0.00</td>\n",
       "      <td>TO</td>\n",
       "      <td>2020-01-14 04:31:11</td>\n",
       "    </tr>\n",
       "    <tr>\n",
       "      <th>2</th>\n",
       "      <td>San Cristobal</td>\n",
       "      <td>7.77</td>\n",
       "      <td>-72.22</td>\n",
       "      <td>77.00</td>\n",
       "      <td>69</td>\n",
       "      <td>40</td>\n",
       "      <td>4.70</td>\n",
       "      <td>0.00</td>\n",
       "      <td>0.00</td>\n",
       "      <td>VE</td>\n",
       "      <td>2020-01-14 04:39:50</td>\n",
       "    </tr>\n",
       "    <tr>\n",
       "      <th>3</th>\n",
       "      <td>Caldas</td>\n",
       "      <td>6.09</td>\n",
       "      <td>-75.64</td>\n",
       "      <td>59.00</td>\n",
       "      <td>93</td>\n",
       "      <td>40</td>\n",
       "      <td>3.36</td>\n",
       "      <td>0.00</td>\n",
       "      <td>0.00</td>\n",
       "      <td>CO</td>\n",
       "      <td>2020-01-14 04:39:50</td>\n",
       "    </tr>\n",
       "    <tr>\n",
       "      <th>4</th>\n",
       "      <td>Parabel</td>\n",
       "      <td>58.70</td>\n",
       "      <td>81.48</td>\n",
       "      <td>11.44</td>\n",
       "      <td>91</td>\n",
       "      <td>100</td>\n",
       "      <td>12.01</td>\n",
       "      <td>0.00</td>\n",
       "      <td>0.38</td>\n",
       "      <td>RU</td>\n",
       "      <td>2020-01-14 04:39:51</td>\n",
       "    </tr>\n",
       "    <tr>\n",
       "      <th>5</th>\n",
       "      <td>Bethel</td>\n",
       "      <td>41.37</td>\n",
       "      <td>-73.41</td>\n",
       "      <td>43.00</td>\n",
       "      <td>93</td>\n",
       "      <td>90</td>\n",
       "      <td>3.36</td>\n",
       "      <td>0.00</td>\n",
       "      <td>0.00</td>\n",
       "      <td>US</td>\n",
       "      <td>2020-01-14 04:39:52</td>\n",
       "    </tr>\n",
       "    <tr>\n",
       "      <th>6</th>\n",
       "      <td>Ushuaia</td>\n",
       "      <td>-54.80</td>\n",
       "      <td>-68.30</td>\n",
       "      <td>48.20</td>\n",
       "      <td>100</td>\n",
       "      <td>90</td>\n",
       "      <td>8.05</td>\n",
       "      <td>0.00</td>\n",
       "      <td>0.00</td>\n",
       "      <td>AR</td>\n",
       "      <td>2020-01-14 04:28:45</td>\n",
       "    </tr>\n",
       "    <tr>\n",
       "      <th>7</th>\n",
       "      <td>Caravelas</td>\n",
       "      <td>-17.71</td>\n",
       "      <td>-39.25</td>\n",
       "      <td>78.87</td>\n",
       "      <td>83</td>\n",
       "      <td>51</td>\n",
       "      <td>10.69</td>\n",
       "      <td>0.00</td>\n",
       "      <td>0.00</td>\n",
       "      <td>BR</td>\n",
       "      <td>2020-01-14 04:39:53</td>\n",
       "    </tr>\n",
       "    <tr>\n",
       "      <th>8</th>\n",
       "      <td>Chapais</td>\n",
       "      <td>49.78</td>\n",
       "      <td>-74.85</td>\n",
       "      <td>-13.00</td>\n",
       "      <td>75</td>\n",
       "      <td>1</td>\n",
       "      <td>3.36</td>\n",
       "      <td>0.00</td>\n",
       "      <td>0.00</td>\n",
       "      <td>CA</td>\n",
       "      <td>2020-01-14 04:39:54</td>\n",
       "    </tr>\n",
       "    <tr>\n",
       "      <th>9</th>\n",
       "      <td>Namatanai</td>\n",
       "      <td>-3.67</td>\n",
       "      <td>152.43</td>\n",
       "      <td>84.06</td>\n",
       "      <td>74</td>\n",
       "      <td>88</td>\n",
       "      <td>15.37</td>\n",
       "      <td>1.94</td>\n",
       "      <td>0.00</td>\n",
       "      <td>PG</td>\n",
       "      <td>2020-01-14 04:39:55</td>\n",
       "    </tr>\n",
       "  </tbody>\n",
       "</table>\n",
       "</div>"
      ],
      "text/plain": [
       "            City    Lat     Lng  Max Temp  Humidity  Cloudiness  Wind Speed  \\\n",
       "0         Payson  40.04 -111.73     39.00        47          90        9.17   \n",
       "1          Vaini -21.20 -175.20     86.00        74          20        6.93   \n",
       "2  San Cristobal   7.77  -72.22     77.00        69          40        4.70   \n",
       "3         Caldas   6.09  -75.64     59.00        93          40        3.36   \n",
       "4        Parabel  58.70   81.48     11.44        91         100       12.01   \n",
       "5         Bethel  41.37  -73.41     43.00        93          90        3.36   \n",
       "6        Ushuaia -54.80  -68.30     48.20       100          90        8.05   \n",
       "7      Caravelas -17.71  -39.25     78.87        83          51       10.69   \n",
       "8        Chapais  49.78  -74.85    -13.00        75           1        3.36   \n",
       "9      Namatanai  -3.67  152.43     84.06        74          88       15.37   \n",
       "\n",
       "   Rainfall (inches)  Snowfall (inches) Country                 Date  \n",
       "0               0.00               0.00      US  2020-01-14 04:34:55  \n",
       "1               0.00               0.00      TO  2020-01-14 04:31:11  \n",
       "2               0.00               0.00      VE  2020-01-14 04:39:50  \n",
       "3               0.00               0.00      CO  2020-01-14 04:39:50  \n",
       "4               0.00               0.38      RU  2020-01-14 04:39:51  \n",
       "5               0.00               0.00      US  2020-01-14 04:39:52  \n",
       "6               0.00               0.00      AR  2020-01-14 04:28:45  \n",
       "7               0.00               0.00      BR  2020-01-14 04:39:53  \n",
       "8               0.00               0.00      CA  2020-01-14 04:39:54  \n",
       "9               1.94               0.00      PG  2020-01-14 04:39:55  "
      ]
     },
     "execution_count": 10,
     "metadata": {},
     "output_type": "execute_result"
    }
   ],
   "source": [
    "# Convert the array of dictionaries to a Pandas DataFrame\n",
    "city_data_df = pd.DataFrame(city_data)\n",
    "city_data_df.head(10)"
   ]
  },
  {
   "cell_type": "code",
   "execution_count": 11,
   "metadata": {},
   "outputs": [
    {
     "data": {
      "text/html": [
       "<div>\n",
       "<style scoped>\n",
       "    .dataframe tbody tr th:only-of-type {\n",
       "        vertical-align: middle;\n",
       "    }\n",
       "\n",
       "    .dataframe tbody tr th {\n",
       "        vertical-align: top;\n",
       "    }\n",
       "\n",
       "    .dataframe thead th {\n",
       "        text-align: right;\n",
       "    }\n",
       "</style>\n",
       "<table border=\"1\" class=\"dataframe\">\n",
       "  <thead>\n",
       "    <tr style=\"text-align: right;\">\n",
       "      <th></th>\n",
       "      <th>City</th>\n",
       "      <th>Country</th>\n",
       "      <th>Date</th>\n",
       "      <th>Lat</th>\n",
       "      <th>Lng</th>\n",
       "      <th>Max Temp</th>\n",
       "      <th>Humidity</th>\n",
       "      <th>Cloudiness</th>\n",
       "      <th>Wind Speed</th>\n",
       "    </tr>\n",
       "  </thead>\n",
       "  <tbody>\n",
       "    <tr>\n",
       "      <th>0</th>\n",
       "      <td>Payson</td>\n",
       "      <td>US</td>\n",
       "      <td>2020-01-14 04:34:55</td>\n",
       "      <td>40.04</td>\n",
       "      <td>-111.73</td>\n",
       "      <td>39.00</td>\n",
       "      <td>47</td>\n",
       "      <td>90</td>\n",
       "      <td>9.17</td>\n",
       "    </tr>\n",
       "    <tr>\n",
       "      <th>1</th>\n",
       "      <td>Vaini</td>\n",
       "      <td>TO</td>\n",
       "      <td>2020-01-14 04:31:11</td>\n",
       "      <td>-21.20</td>\n",
       "      <td>-175.20</td>\n",
       "      <td>86.00</td>\n",
       "      <td>74</td>\n",
       "      <td>20</td>\n",
       "      <td>6.93</td>\n",
       "    </tr>\n",
       "    <tr>\n",
       "      <th>2</th>\n",
       "      <td>San Cristobal</td>\n",
       "      <td>VE</td>\n",
       "      <td>2020-01-14 04:39:50</td>\n",
       "      <td>7.77</td>\n",
       "      <td>-72.22</td>\n",
       "      <td>77.00</td>\n",
       "      <td>69</td>\n",
       "      <td>40</td>\n",
       "      <td>4.70</td>\n",
       "    </tr>\n",
       "    <tr>\n",
       "      <th>3</th>\n",
       "      <td>Caldas</td>\n",
       "      <td>CO</td>\n",
       "      <td>2020-01-14 04:39:50</td>\n",
       "      <td>6.09</td>\n",
       "      <td>-75.64</td>\n",
       "      <td>59.00</td>\n",
       "      <td>93</td>\n",
       "      <td>40</td>\n",
       "      <td>3.36</td>\n",
       "    </tr>\n",
       "    <tr>\n",
       "      <th>4</th>\n",
       "      <td>Parabel</td>\n",
       "      <td>RU</td>\n",
       "      <td>2020-01-14 04:39:51</td>\n",
       "      <td>58.70</td>\n",
       "      <td>81.48</td>\n",
       "      <td>11.44</td>\n",
       "      <td>91</td>\n",
       "      <td>100</td>\n",
       "      <td>12.01</td>\n",
       "    </tr>\n",
       "    <tr>\n",
       "      <th>5</th>\n",
       "      <td>Bethel</td>\n",
       "      <td>US</td>\n",
       "      <td>2020-01-14 04:39:52</td>\n",
       "      <td>41.37</td>\n",
       "      <td>-73.41</td>\n",
       "      <td>43.00</td>\n",
       "      <td>93</td>\n",
       "      <td>90</td>\n",
       "      <td>3.36</td>\n",
       "    </tr>\n",
       "    <tr>\n",
       "      <th>6</th>\n",
       "      <td>Ushuaia</td>\n",
       "      <td>AR</td>\n",
       "      <td>2020-01-14 04:28:45</td>\n",
       "      <td>-54.80</td>\n",
       "      <td>-68.30</td>\n",
       "      <td>48.20</td>\n",
       "      <td>100</td>\n",
       "      <td>90</td>\n",
       "      <td>8.05</td>\n",
       "    </tr>\n",
       "    <tr>\n",
       "      <th>7</th>\n",
       "      <td>Caravelas</td>\n",
       "      <td>BR</td>\n",
       "      <td>2020-01-14 04:39:53</td>\n",
       "      <td>-17.71</td>\n",
       "      <td>-39.25</td>\n",
       "      <td>78.87</td>\n",
       "      <td>83</td>\n",
       "      <td>51</td>\n",
       "      <td>10.69</td>\n",
       "    </tr>\n",
       "    <tr>\n",
       "      <th>8</th>\n",
       "      <td>Chapais</td>\n",
       "      <td>CA</td>\n",
       "      <td>2020-01-14 04:39:54</td>\n",
       "      <td>49.78</td>\n",
       "      <td>-74.85</td>\n",
       "      <td>-13.00</td>\n",
       "      <td>75</td>\n",
       "      <td>1</td>\n",
       "      <td>3.36</td>\n",
       "    </tr>\n",
       "    <tr>\n",
       "      <th>9</th>\n",
       "      <td>Namatanai</td>\n",
       "      <td>PG</td>\n",
       "      <td>2020-01-14 04:39:55</td>\n",
       "      <td>-3.67</td>\n",
       "      <td>152.43</td>\n",
       "      <td>84.06</td>\n",
       "      <td>74</td>\n",
       "      <td>88</td>\n",
       "      <td>15.37</td>\n",
       "    </tr>\n",
       "  </tbody>\n",
       "</table>\n",
       "</div>"
      ],
      "text/plain": [
       "            City Country                 Date    Lat     Lng  Max Temp  \\\n",
       "0         Payson      US  2020-01-14 04:34:55  40.04 -111.73     39.00   \n",
       "1          Vaini      TO  2020-01-14 04:31:11 -21.20 -175.20     86.00   \n",
       "2  San Cristobal      VE  2020-01-14 04:39:50   7.77  -72.22     77.00   \n",
       "3         Caldas      CO  2020-01-14 04:39:50   6.09  -75.64     59.00   \n",
       "4        Parabel      RU  2020-01-14 04:39:51  58.70   81.48     11.44   \n",
       "5         Bethel      US  2020-01-14 04:39:52  41.37  -73.41     43.00   \n",
       "6        Ushuaia      AR  2020-01-14 04:28:45 -54.80  -68.30     48.20   \n",
       "7      Caravelas      BR  2020-01-14 04:39:53 -17.71  -39.25     78.87   \n",
       "8        Chapais      CA  2020-01-14 04:39:54  49.78  -74.85    -13.00   \n",
       "9      Namatanai      PG  2020-01-14 04:39:55  -3.67  152.43     84.06   \n",
       "\n",
       "   Humidity  Cloudiness  Wind Speed  \n",
       "0        47          90        9.17  \n",
       "1        74          20        6.93  \n",
       "2        69          40        4.70  \n",
       "3        93          40        3.36  \n",
       "4        91         100       12.01  \n",
       "5        93          90        3.36  \n",
       "6       100          90        8.05  \n",
       "7        83          51       10.69  \n",
       "8        75           1        3.36  \n",
       "9        74          88       15.37  "
      ]
     },
     "execution_count": 11,
     "metadata": {},
     "output_type": "execute_result"
    }
   ],
   "source": [
    "# Reorder Columns\n",
    "new_column_order = [\"City\", \"Country\", \"Date\", \"Lat\", \"Lng\", \"Max Temp\", \"Humidity\", \"Cloudiness\", \"Wind Speed\"]\n",
    "city_data_df = city_data_df[new_column_order]\n",
    "city_data_df.head(10)"
   ]
  },
  {
   "cell_type": "code",
   "execution_count": 12,
   "metadata": {},
   "outputs": [],
   "source": [
    "# Create the output file (CSV)\n",
    "output_data_file = \"weather_data/cities.csv\"\n",
    "# Export the city_data into a csv\n",
    "city_data_df.to_csv(output_data_file, index_label=\"City_ID\")"
   ]
  },
  {
   "cell_type": "code",
   "execution_count": 13,
   "metadata": {},
   "outputs": [
    {
     "data": {
      "text/plain": [
       "'01/13/20'"
      ]
     },
     "execution_count": 13,
     "metadata": {},
     "output_type": "execute_result"
    }
   ],
   "source": [
    "# Import the time module\n",
    "import time\n",
    "# Get today's date in seconds\n",
    "today = time.strftime(\"%x\")\n",
    "today"
   ]
  },
  {
   "cell_type": "code",
   "execution_count": 14,
   "metadata": {},
   "outputs": [],
   "source": [
    "# Extract relevant fields from the DataFrame for plotting\n",
    "lats = city_data_df[\"Lat\"]\n",
    "max_temps = city_data_df[\"Max Temp\"]\n",
    "humidity = city_data_df[\"Humidity\"]\n",
    "cloudiness = city_data_df[\"Cloudiness\"]\n",
    "wind_speed = city_data_df[\"Wind Speed\"]"
   ]
  },
  {
   "cell_type": "code",
   "execution_count": 15,
   "metadata": {},
   "outputs": [
    {
     "data": {
      "image/png": "[encoded data removed]",
      "text/plain": [
       "<Figure size 432x288 with 1 Axes>"
      ]
     },
     "metadata": {
      "needs_background": "light"
     },
     "output_type": "display_data"
    }
   ],
   "source": [
    "# Build the scatter plot for latitude vs max temp\n",
    "plt.scatter(lats,\n",
    "           max_temps,\n",
    "           edgecolor=\"black\",linewidths=1, marker=\"o\",\n",
    "           alpha=0.8, label=\"Cities\")\n",
    "\n",
    "# Incorporate the other graph properties\n",
    "plt.title(f\"City Latitude vs. Max Temperature \"+ time.strftime(\"%x\"))\n",
    "plt.ylabel(\"Max Temperature (F)\")\n",
    "plt.xlabel(\"Latitude\")\n",
    "plt.grid(True)\n",
    "\n",
    "# Save the figure\n",
    "plt.savefig(\"weather_data/Fig1.png\")\n",
    "\n",
    "# Show plot\n",
    "plt.show()"
   ]
  },
  {
   "cell_type": "code",
   "execution_count": 16,
   "metadata": {},
   "outputs": [
    {
     "data": {
      "image/png": "[encoded data removed]",
      "text/plain": [
       "<Figure size 432x288 with 1 Axes>"
      ]
     },
     "metadata": {
      "needs_background": "light"
     },
     "output_type": "display_data"
    }
   ],
   "source": [
    "# Build the scatter plot for latitude vs humidity\n",
    "plt.scatter(lats,\n",
    "           humidity,\n",
    "           edgecolor=\"black\",linewidths=1, marker=\"o\",\n",
    "           alpha=0.8, label=\"Cities\")\n",
    "\n",
    "# Incorporate the other graph properties\n",
    "plt.title(f\"City Latitude vs. Humidity \"+ time.strftime(\"%x\"))\n",
    "plt.ylabel(\"Humidity (%)\")\n",
    "plt.xlabel(\"Latitude\")\n",
    "plt.grid(True)\n",
    "\n",
    "# Save the figure\n",
    "plt.savefig(\"weather_data/Fig2.png\")\n",
    "\n",
    "# Show plot\n",
    "plt.show()"
   ]
  },
  {
   "cell_type": "code",
   "execution_count": 17,
   "metadata": {},
   "outputs": [
    {
     "data": {
      "image/png": "[encoded data removed]",
      "text/plain": [
       "<Figure size 432x288 with 1 Axes>"
      ]
     },
     "metadata": {
      "needs_background": "light"
     },
     "output_type": "display_data"
    }
   ],
   "source": [
    "# Build the scatter plot for latitude vs Cloudiness\n",
    "plt.scatter(lats,\n",
    "           cloudiness,\n",
    "           edgecolor=\"black\",linewidths=1, marker=\"o\",\n",
    "           alpha=0.8, label=\"Cities\")\n",
    "\n",
    "# Incorporate the other graph properties\n",
    "plt.title(f\"City Latitude vs. Cloudiness \"+ time.strftime(\"%x\"))\n",
    "plt.ylabel(\"Cloudiness (%)\")\n",
    "plt.xlabel(\"Latitude\")\n",
    "plt.grid(True)\n",
    "\n",
    "# Save the figure\n",
    "plt.savefig(\"weather_data/Fig3.png\")\n",
    "\n",
    "# Show plot\n",
    "plt.show()"
   ]
  },
  {
   "cell_type": "code",
   "execution_count": 18,
   "metadata": {},
   "outputs": [
    {
     "data": {
      "image/png": "[encoded data removed]",
      "text/plain": [
       "<Figure size 432x288 with 1 Axes>"
      ]
     },
     "metadata": {
      "needs_background": "light"
     },
     "output_type": "display_data"
    }
   ],
   "source": [
    "# Build the scatter plot for latitude vs Wind Speed\n",
    "plt.scatter(lats,\n",
    "           wind_speed,\n",
    "           edgecolor=\"black\",linewidths=1, marker=\"o\",\n",
    "           alpha=0.8, label=\"Cities\")\n",
    "\n",
    "# Incorporate the other graph properties\n",
    "plt.title(f\"City Latitude vs. Wind Speed \"+ time.strftime(\"%x\"))\n",
    "plt.ylabel(\"Wind Speed (%)\")\n",
    "plt.xlabel(\"Latitude\")\n",
    "plt.grid(True)\n",
    "\n",
    "# Save the figure\n",
    "plt.savefig(\"weather_data/Fig4.png\")\n",
    "\n",
    "# Show plot\n",
    "plt.show()"
   ]
  },
  {
   "cell_type": "code",
   "execution_count": 19,
   "metadata": {},
   "outputs": [],
   "source": [
    "# Import linear regression from the scipy stats module\n",
    "from scipy.stats import linregress"
   ]
  },
  {
   "cell_type": "code",
   "execution_count": 20,
   "metadata": {},
   "outputs": [],
   "source": [
    "# Create a function to create perform linear regression on the weather data\n",
    "# and plot a regression line and the equation with the data\n",
    "def plot_linear_regression(x_values, y_values, title, y_label, text_coordinates):\n",
    "    \n",
    "    # Run regression on hemisphere weather data\n",
    "    (slope, intercept, r_value, p_value, std_err) = linregress(x_values, y_values)\n",
    "    \n",
    "    # Calculate the regression line \"y values\" from the slope and intercept\n",
    "    regress_values = x_values * slope + intercept\n",
    "    # Get the equation of the line\n",
    "    line_eq = \"y = \" + str(round(slope,2)) + \"x + \" + str(round(intercept,2))\n",
    "    # Create a scatter plot and plot the regression line\n",
    "    plt.scatter(x_values,y_values)\n",
    "    plt.plot(x_values,regress_values,\"r\")\n",
    "    # Annotate the text for the line equation\n",
    "    plt.annotate(line_eq, text_coordinates, fontsize=15, color=\"red\")\n",
    "    plt.title(title)\n",
    "    plt.xlabel('Latitude')\n",
    "    plt.ylabel(y_label)\n",
    "    plt.show()"
   ]
  },
  {
   "cell_type": "code",
   "execution_count": 21,
   "metadata": {},
   "outputs": [
    {
     "data": {
      "text/html": [
       "<div>\n",
       "<style scoped>\n",
       "    .dataframe tbody tr th:only-of-type {\n",
       "        vertical-align: middle;\n",
       "    }\n",
       "\n",
       "    .dataframe tbody tr th {\n",
       "        vertical-align: top;\n",
       "    }\n",
       "\n",
       "    .dataframe thead th {\n",
       "        text-align: right;\n",
       "    }\n",
       "</style>\n",
       "<table border=\"1\" class=\"dataframe\">\n",
       "  <thead>\n",
       "    <tr style=\"text-align: right;\">\n",
       "      <th></th>\n",
       "      <th>City</th>\n",
       "      <th>Country</th>\n",
       "      <th>Date</th>\n",
       "      <th>Lat</th>\n",
       "      <th>Lng</th>\n",
       "      <th>Max Temp</th>\n",
       "      <th>Humidity</th>\n",
       "      <th>Cloudiness</th>\n",
       "      <th>Wind Speed</th>\n",
       "    </tr>\n",
       "  </thead>\n",
       "  <tbody>\n",
       "    <tr>\n",
       "      <th>0</th>\n",
       "      <td>Payson</td>\n",
       "      <td>US</td>\n",
       "      <td>2020-01-14 04:34:55</td>\n",
       "      <td>40.04</td>\n",
       "      <td>-111.73</td>\n",
       "      <td>39.00</td>\n",
       "      <td>47</td>\n",
       "      <td>90</td>\n",
       "      <td>9.17</td>\n",
       "    </tr>\n",
       "    <tr>\n",
       "      <th>2</th>\n",
       "      <td>San Cristobal</td>\n",
       "      <td>VE</td>\n",
       "      <td>2020-01-14 04:39:50</td>\n",
       "      <td>7.77</td>\n",
       "      <td>-72.22</td>\n",
       "      <td>77.00</td>\n",
       "      <td>69</td>\n",
       "      <td>40</td>\n",
       "      <td>4.70</td>\n",
       "    </tr>\n",
       "    <tr>\n",
       "      <th>3</th>\n",
       "      <td>Caldas</td>\n",
       "      <td>CO</td>\n",
       "      <td>2020-01-14 04:39:50</td>\n",
       "      <td>6.09</td>\n",
       "      <td>-75.64</td>\n",
       "      <td>59.00</td>\n",
       "      <td>93</td>\n",
       "      <td>40</td>\n",
       "      <td>3.36</td>\n",
       "    </tr>\n",
       "    <tr>\n",
       "      <th>4</th>\n",
       "      <td>Parabel</td>\n",
       "      <td>RU</td>\n",
       "      <td>2020-01-14 04:39:51</td>\n",
       "      <td>58.70</td>\n",
       "      <td>81.48</td>\n",
       "      <td>11.44</td>\n",
       "      <td>91</td>\n",
       "      <td>100</td>\n",
       "      <td>12.01</td>\n",
       "    </tr>\n",
       "    <tr>\n",
       "      <th>5</th>\n",
       "      <td>Bethel</td>\n",
       "      <td>US</td>\n",
       "      <td>2020-01-14 04:39:52</td>\n",
       "      <td>41.37</td>\n",
       "      <td>-73.41</td>\n",
       "      <td>43.00</td>\n",
       "      <td>93</td>\n",
       "      <td>90</td>\n",
       "      <td>3.36</td>\n",
       "    </tr>\n",
       "  </tbody>\n",
       "</table>\n",
       "</div>"
      ],
      "text/plain": [
       "            City Country                 Date    Lat     Lng  Max Temp  \\\n",
       "0         Payson      US  2020-01-14 04:34:55  40.04 -111.73     39.00   \n",
       "2  San Cristobal      VE  2020-01-14 04:39:50   7.77  -72.22     77.00   \n",
       "3         Caldas      CO  2020-01-14 04:39:50   6.09  -75.64     59.00   \n",
       "4        Parabel      RU  2020-01-14 04:39:51  58.70   81.48     11.44   \n",
       "5         Bethel      US  2020-01-14 04:39:52  41.37  -73.41     43.00   \n",
       "\n",
       "   Humidity  Cloudiness  Wind Speed  \n",
       "0        47          90        9.17  \n",
       "2        69          40        4.70  \n",
       "3        93          40        3.36  \n",
       "4        91         100       12.01  \n",
       "5        93          90        3.36  "
      ]
     },
     "execution_count": 21,
     "metadata": {},
     "output_type": "execute_result"
    }
   ],
   "source": [
    "city_data_df.loc[(city_data_df[\"Lat\"] >= 0)].head()"
   ]
  },
  {
   "cell_type": "code",
   "execution_count": 22,
   "metadata": {},
   "outputs": [],
   "source": [
    "# Create Northern and Southern Hemisphere DataFrames\n",
    "northern_hemi_df = city_data_df.loc[(city_data_df[\"Lat\"] >= 0)]\n",
    "southern_hemi_df = city_data_df.loc[(city_data_df[\"Lat\"] < 0)]"
   ]
  },
  {
   "cell_type": "code",
   "execution_count": 23,
   "metadata": {},
   "outputs": [
    {
     "data": {
      "image/png": "[encoded data removed]",
      "text/plain": [
       "<Figure size 432x288 with 1 Axes>"
      ]
     },
     "metadata": {
      "needs_background": "light"
     },
     "output_type": "display_data"
    }
   ],
   "source": [
    "# Linear regression on Northern Hemisphere Max Temperature\n",
    "x_values = northern_hemi_df[\"Lat\"]\n",
    "y_values = northern_hemi_df[\"Max Temp\"]\n",
    "# Call the function\n",
    "plot_linear_regression(x_values, y_values,\n",
    "                      'Linear Regression on the Northern Hemisphere\\n for Maximum Temperature', 'Max Temp',(1,-40))"
   ]
  },
  {
   "cell_type": "code",
   "execution_count": 24,
   "metadata": {},
   "outputs": [
    {
     "data": {
      "image/png": "[encoded data removed]",
      "text/plain": [
       "<Figure size 432x288 with 1 Axes>"
      ]
     },
     "metadata": {
      "needs_background": "light"
     },
     "output_type": "display_data"
    }
   ],
   "source": [
    "# Linear regression on southern Hemisphere for Max Temperature\n",
    "x_values = southern_hemi_df[\"Lat\"]\n",
    "y_values = southern_hemi_df[\"Max Temp\"]\n",
    "# Call the function\n",
    "plot_linear_regression(x_values, y_values,\n",
    "                      'Linear Regression on the Southern Hemisphere\\n for Maximum Temperature', 'Max Temp',(-23,45))"
   ]
  },
  {
   "cell_type": "code",
   "execution_count": 25,
   "metadata": {},
   "outputs": [
    {
     "data": {
      "image/png": "[encoded data removed]",
      "text/plain": [
       "<Figure size 432x288 with 1 Axes>"
      ]
     },
     "metadata": {
      "needs_background": "light"
     },
     "output_type": "display_data"
    }
   ],
   "source": [
    "# Linear regression on Northern Hemisphere for Humidity\n",
    "x_values = northern_hemi_df[\"Lat\"]\n",
    "y_values = northern_hemi_df[\"Humidity\"]\n",
    "# Call the function\n",
    "plot_linear_regression(x_values, y_values, 'Linear Regression on the Northern Hemisphere\\n for % Humidity', \n",
    "                       '% Humidity',(45,18))"
   ]
  },
  {
   "cell_type": "code",
   "execution_count": 26,
   "metadata": {},
   "outputs": [
    {
     "data": {
      "image/png": "[encoded data removed]",
      "text/plain": [
       "<Figure size 432x288 with 1 Axes>"
      ]
     },
     "metadata": {
      "needs_background": "light"
     },
     "output_type": "display_data"
    }
   ],
   "source": [
    "# Linear regression on southern Hemisphere for Humidity\n",
    "x_values = southern_hemi_df[\"Lat\"]\n",
    "y_values = southern_hemi_df[\"Humidity\"]\n",
    "# Call the function\n",
    "plot_linear_regression(x_values, y_values, 'Linear Regression on the Southern Hemisphere\\n for % Humidity', \n",
    "                       '% Humidity',(-23,15))"
   ]
  },
  {
   "cell_type": "code",
   "execution_count": 27,
   "metadata": {},
   "outputs": [
    {
     "data": {
      "image/png": "[encoded data removed]",
      "text/plain": [
       "<Figure size 432x288 with 1 Axes>"
      ]
     },
     "metadata": {
      "needs_background": "light"
     },
     "output_type": "display_data"
    }
   ],
   "source": [
    "# Linear regression on Northern Hemisphere for Cloudiness\n",
    "x_values = northern_hemi_df[\"Lat\"]\n",
    "y_values = northern_hemi_df[\"Cloudiness\"]\n",
    "# Call the function\n",
    "plot_linear_regression(x_values, y_values, 'Linear Regression on the Northern Hemisphere\\n for % Cloudiness', \n",
    "                       '% Cloudiness',(45,50))"
   ]
  },
  {
   "cell_type": "code",
   "execution_count": 28,
   "metadata": {},
   "outputs": [
    {
     "data": {
      "image/png": "[encoded data removed]",
      "text/plain": [
       "<Figure size 432x288 with 1 Axes>"
      ]
     },
     "metadata": {
      "needs_background": "light"
     },
     "output_type": "display_data"
    }
   ],
   "source": [
    "# Linear regression on southern Hemisphere for Cloudiness\n",
    "x_values = southern_hemi_df[\"Lat\"]\n",
    "y_values = southern_hemi_df[\"Cloudiness\"]\n",
    "# Call the function\n",
    "plot_linear_regression(x_values, y_values, 'Linear Regression on the Southern Hemisphere\\n for % Cloudiness', \n",
    "                       '% Cloudiness',(-55,50))"
   ]
  },
  {
   "cell_type": "code",
   "execution_count": 29,
   "metadata": {},
   "outputs": [
    {
     "data": {
      "image/png": "[encoded data removed]",
      "text/plain": [
       "<Figure size 432x288 with 1 Axes>"
      ]
     },
     "metadata": {
      "needs_background": "light"
     },
     "output_type": "display_data"
    }
   ],
   "source": [
    "# Linear regression on northern Hemisphere for Wind Speed\n",
    "x_values = northern_hemi_df[\"Lat\"]\n",
    "y_values = northern_hemi_df[\"Wind Speed\"]\n",
    "# Call the function\n",
    "plot_linear_regression(x_values, y_values, 'Linear Regression on the Northern Hemisphere\\n for % Wind Speed', \n",
    "                       '% Wind Speed',(0,35))"
   ]
  },
  {
   "cell_type": "code",
   "execution_count": 30,
   "metadata": {},
   "outputs": [
    {
     "data": {
      "image/png": "[encoded data removed]",
      "text/plain": [
       "<Figure size 432x288 with 1 Axes>"
      ]
     },
     "metadata": {
      "needs_background": "light"
     },
     "output_type": "display_data"
    }
   ],
   "source": [
    "# Linear regression on southern Hemisphere for Wind Speed\n",
    "x_values = southern_hemi_df[\"Lat\"]\n",
    "y_values = southern_hemi_df[\"Wind Speed\"]\n",
    "# Call the function\n",
    "plot_linear_regression(x_values, y_values, 'Linear Regression on the Southern Hemisphere\\n for % Wind Speed', \n",
    "                       '% Wind Speed',(-25,40))"
   ]
  },
  {
   "cell_type": "code",
   "execution_count": null,
   "metadata": {},
   "outputs": [],
   "source": []
  }
 ],
 "metadata": {
  "kernelspec": {
   "display_name": "PythonData",
   "language": "python",
   "name": "pythondata"
  },
  "language_info": {
   "codemirror_mode": {
    "name": "ipython",
    "version": 3
   },
   "file_extension": ".py",
   "mimetype": "text/x-python",
   "name": "python",
   "nbconvert_exporter": "python",
   "pygments_lexer": "ipython3",
   "version": "3.6.9"
  }
 },
 "nbformat": 4,
 "nbformat_minor": 2
}
